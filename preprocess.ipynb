{
 "cells": [
  {
   "cell_type": "code",
   "execution_count": 1,
   "id": "def1291d",
   "metadata": {},
   "outputs": [],
   "source": [
    "import pandas as pd\n",
    "\n",
    "from convertbng.util import convert_bng, convert_lonlat\n",
    "import numpy as np\n",
    "\n",
    "pd.set_option('max_colwidth',None)\n",
    "\n",
    "DIR ='./Data/'"
   ]
  },
  {
   "cell_type": "markdown",
   "id": "96be1bcc",
   "metadata": {},
   "source": [
    "## Column Filtering"
   ]
  },
  {
   "cell_type": "markdown",
   "id": "e417d20c",
   "metadata": {},
   "source": [
    "### Cleaning Accidents Dataset"
   ]
  },
  {
   "cell_type": "code",
   "execution_count": 6,
   "id": "da0c3609",
   "metadata": {},
   "outputs": [],
   "source": [
    "# reading in required columns\n",
    "acc_col_list = ['accident_index', 'location_easting_osgr', 'location_northing_osgr','latitude','longitude', 'number_of_vehicles',\n",
    "       'number_of_casualties', 'date', 'day_of_week', 'time',]\n",
    "acc_df = pd.read_csv(DIR + '/raw/accidents_raw.csv', usecols = acc_col_list)"
   ]
  },
  {
   "cell_type": "code",
   "execution_count": 8,
   "id": "68562b3e",
   "metadata": {},
   "outputs": [],
   "source": [
    "# filtering data from 2000\n",
    "acc_df['date'] = pd.to_datetime(acc_df['date'], infer_datetime_format=True)\n",
    "acc_2000 = acc_df[acc_df['date'] > '31-12-1999']\n",
    "del acc_df"
   ]
  },
  {
   "cell_type": "code",
   "execution_count": 9,
   "id": "c37432e0",
   "metadata": {},
   "outputs": [],
   "source": [
    "# filter not null easting/northing \n",
    "acc_2000 = acc_2000[acc_2000['location_easting_osgr'].notna() & acc_2000['location_northing_osgr'].notna()]"
   ]
  },
  {
   "cell_type": "code",
   "execution_count": 10,
   "id": "b0beb331",
   "metadata": {},
   "outputs": [],
   "source": [
    "# convert easting and northing to lat long for missing rows\n",
    "mask = acc_2000['latitude'].isna()\n",
    "\n",
    "long_lat = convert_lonlat(acc_2000.loc[mask,['location_easting_osgr']].values, \n",
    "                        acc_2000.loc[mask,['location_northing_osgr']].values)\n",
    "                                               \n",
    "acc_2000.loc[mask,['longitude','latitude']] = np.array(long_lat).T"
   ]
  },
  {
   "cell_type": "code",
   "execution_count": 12,
   "id": "13936c68",
   "metadata": {},
   "outputs": [],
   "source": [
    "# Filtering out \n",
    "acc_2000 = acc_2000[acc_2000['longitude'].notna() & acc_2000['latitude'].notna()]"
   ]
  },
  {
   "cell_type": "code",
   "execution_count": 14,
   "id": "1487acbf",
   "metadata": {},
   "outputs": [],
   "source": [
    "acc_2000.to_csv(DIR+'acc_clean.csv', index=False)"
   ]
  },
  {
   "cell_type": "markdown",
   "id": "08874ff3",
   "metadata": {},
   "source": [
    "### Filtering Vehicles Dataset"
   ]
  },
  {
   "cell_type": "code",
   "execution_count": 5,
   "id": "a889b29f",
   "metadata": {},
   "outputs": [
    {
     "name": "stderr",
     "output_type": "stream",
     "text": [
      "d:\\installations\\anaconda3\\envs\\ke\\lib\\site-packages\\IPython\\core\\interactiveshell.py:3457: DtypeWarning: Columns (0) have mixed types.Specify dtype option on import or set low_memory=False.\n",
      "  exec(code_obj, self.user_global_ns, self.user_ns)\n"
     ]
    }
   ],
   "source": [
    "v_cols_list = ['accident_index', 'vehicle_reference', 'vehicle_type']\n",
    "vehicles_df = pd.read_csv(DIR+'/raw/vehicles_raw.csv',usecols = v_cols_list)\n",
    "vehicles_df.to_csv(DIR+'/vehicles_clean.csv',index=False)\n",
    "del vehicles_df"
   ]
  },
  {
   "cell_type": "markdown",
   "id": "ee7645cb",
   "metadata": {},
   "source": [
    "### Filtering and Cleaning Pubs Dataset"
   ]
  },
  {
   "cell_type": "code",
   "execution_count": 2,
   "id": "b545083d",
   "metadata": {},
   "outputs": [],
   "source": [
    "pubs_cols = ['fas_id','name','latitude','longitude','local_authority']\n",
    "pubs_df = pd.read_csv(DIR+'raw/open_pubs_raw.csv',usecols=pubs_cols)"
   ]
  },
  {
   "cell_type": "code",
   "execution_count": 3,
   "id": "eea86ffd",
   "metadata": {},
   "outputs": [],
   "source": [
    "# removing rows with invalid coordinates\n",
    "mask = ~pubs_df.latitude.str.contains('N')\n",
    "pubs_df = pubs_df[mask]\n",
    "string_filter = ~ (pubs_df.longitude.str.contains('[A-Z]+[a-z]+') | pubs_df.longitude.str.contains('[A-Z]+[a-z]+'))\n",
    "pubs_df = pubs_df[string_filter]"
   ]
  },
  {
   "cell_type": "code",
   "execution_count": 4,
   "id": "8c89cb4f",
   "metadata": {},
   "outputs": [],
   "source": [
    "pubs_df.to_csv(DIR+'pubs_clean.csv', index = False)\n",
    "del pubs_df"
   ]
  }
 ],
 "metadata": {
  "interpreter": {
   "hash": "04cc81974592770bc1047f5372103b66f6981cf8f1af9b135c86995234f34785"
  },
  "kernelspec": {
   "display_name": "Python 3.10.4 ('ke')",
   "language": "python",
   "name": "python3"
  },
  "language_info": {
   "codemirror_mode": {
    "name": "ipython",
    "version": 3
   },
   "file_extension": ".py",
   "mimetype": "text/x-python",
   "name": "python",
   "nbconvert_exporter": "python",
   "pygments_lexer": "ipython3",
   "version": "3.7.13"
  }
 },
 "nbformat": 4,
 "nbformat_minor": 5
}
